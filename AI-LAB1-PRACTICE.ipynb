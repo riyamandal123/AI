{
 "cells": [
  {
   "cell_type": "code",
   "execution_count": 3,
   "id": "ed223f5a",
   "metadata": {},
   "outputs": [
    {
     "name": "stdout",
     "output_type": "stream",
     "text": [
      "Jug1 = 0, Jug2 = 0\n",
      "Fill Jug1 :Jug1 = 7, Jug2 = 0\n",
      "Pour water from jug1 to jug2: Jug1 = 2, Jug2 = 5\n",
      "Empty Jug2: Jug1 = 2, Jug2 = 0\n",
      "Jug1 = 2, Jug2 = 0\n",
      "Pour water from jug1 to jug2: Jug1 = 0, Jug2 = 2\n",
      "Jug1 = 0, Jug2 = 2\n",
      "Fill Jug1 :Jug1 = 7, Jug2 = 2\n",
      "Pour water from jug1 to jug2: Jug1 = 4, Jug2 = 5\n",
      "Empty Jug2: Jug1 = 4, Jug2 = 0\n",
      "Jug1 = 4, Jug2 = 0\n",
      "Pour water from jug1 to jug2: Jug1 = 0, Jug2 = 4\n",
      "Jug1 = 0, Jug2 = 4\n",
      "Fill Jug1 :Jug1 = 7, Jug2 = 4\n",
      "Pour water from jug1 to jug2: Jug1 = 6, Jug2 = 5\n",
      "Empty Jug2: Jug1 = 6, Jug2 = 0\n",
      "Jug1 = 6, Jug2 = 0\n",
      "Pour water from jug1 to jug2: Jug1 = 1, Jug2 = 5\n",
      "Empty Jug2: Jug1 = 1, Jug2 = 0\n",
      "Jug1 = 1, Jug2 = 0\n",
      "Pour water from jug1 to jug2: Jug1 = 0, Jug2 = 1\n",
      "Jug1 = 0, Jug2 = 1\n",
      "Fill Jug1 :Jug1 = 7, Jug2 = 1\n",
      "Pour water from jug1 to jug2: Jug1 = 3, Jug2 = 5\n",
      "solution found 3,5\n"
     ]
    }
   ],
   "source": [
    "def water_jug_problem(capacity_jug1,capacity_jug2,target):\n",
    "    jug1 = 0\n",
    "    jug2 = 0\n",
    "    while jug1 != target and jug2 != target:\n",
    "        print(f'Jug1 = {jug1}, Jug2 = {jug2}')\n",
    "        \n",
    "        if jug1 == 0:\n",
    "            jug1 = capacity_jug1\n",
    "            print(f'Fill Jug1 :Jug1 = {jug1}, Jug2 = {jug2}')\n",
    "        pour_amt = min(jug1, capacity_jug2 - jug2)\n",
    "        jug1 -= pour_amt\n",
    "        jug2 += pour_amt\n",
    "        print(f'Pour water from jug1 to jug2: Jug1 = {jug1}, Jug2 = {jug2}')\n",
    "        \n",
    "        if jug1 == target:\n",
    "            break\n",
    "        if jug2 == capacity_jug2:\n",
    "            jug2 =0\n",
    "            print(f'Empty Jug2: Jug1 = {jug1}, Jug2 = {jug2}')\n",
    "            \n",
    "    print(f'solution found {jug1},{jug2}')\n",
    "    \n",
    "water_jug_problem(7,5,3)"
   ]
  },
  {
   "cell_type": "code",
   "execution_count": 5,
   "id": "0b365a41",
   "metadata": {},
   "outputs": [
    {
     "name": "stdout",
     "output_type": "stream",
     "text": [
      "Jug1 = 0, Jug2 = 0 , Jug3 = 0\n",
      "Fill Jug1 :Jug1 = 8, Jug2 = 0, Jug3 = 0\n",
      "Pour water from jug1 to jug2: Jug1 = 3, Jug2 = 5, Jug3 = 0\n",
      "Pour water from jug2 to jug3: Jug1 = 3, Jug2 = 2, Jug3 = 3\n",
      "solution found 3,2,3\n"
     ]
    }
   ],
   "source": [
    "def water_jug_problem(capacity_jug1,capacity_jug2,capacity_jug3,target):\n",
    "    jug1 = 0\n",
    "    jug2 = 0\n",
    "    jug3 = 0\n",
    "    while jug1 != target and jug2 != target and jug3 != target:\n",
    "        print(f'Jug1 = {jug1}, Jug2 = {jug2} , Jug3 = {jug3}')\n",
    "        \n",
    "        if jug1 == 0:\n",
    "            jug1 = capacity_jug1\n",
    "            print(f'Fill Jug1 :Jug1 = {jug1}, Jug2 = {jug2}, Jug3 = {jug3}')\n",
    "        pour_amt = min(jug1, capacity_jug2 - jug2)\n",
    "        jug1 -= pour_amt\n",
    "        jug2 += pour_amt\n",
    "        print(f'Pour water from jug1 to jug2: Jug1 = {jug1}, Jug2 = {jug2}, Jug3 = {jug3}')\n",
    "        \n",
    "        pour_amt = min(jug2, capacity_jug3 - jug3)\n",
    "        jug2 -= pour_amt\n",
    "        jug3 += pour_amt\n",
    "        print(f'Pour water from jug2 to jug3: Jug1 = {jug1}, Jug2 = {jug2}, Jug3 = {jug3}')\n",
    "        \n",
    "        if jug3 == capacity_jug2:\n",
    "            jug3 =0\n",
    "            print(f'Empty Jug2: Jug1 = {jug1}, Jug2 = {jug2}, Jug3 = {jug3}')\n",
    "            \n",
    "    print(f'solution found {jug1},{jug2},{jug3}')\n",
    "    \n",
    "water_jug_problem(8,5,3,2)"
   ]
  },
  {
   "cell_type": "code",
   "execution_count": 9,
   "id": "41b87181",
   "metadata": {},
   "outputs": [
    {
     "name": "stdout",
     "output_type": "stream",
     "text": [
      "area 15\n",
      "perimeter 16\n",
      "area 31.5\n",
      "perimeter 23.4\n"
     ]
    }
   ],
   "source": [
    "class Rectangle:\n",
    "    def __init__(self,length,width):\n",
    "        self.length = length\n",
    "        self.width = width\n",
    "        \n",
    "    def area(self):\n",
    "        return self.length * self.width\n",
    "    def perimeter(self):\n",
    "        return 2*(self.length + self.width)\n",
    "rec1 = Rectangle(length=5,width=3)\n",
    "rec2 = Rectangle(length=7.5,width=4.2)\n",
    "print(f'area {rec1.area()}')\n",
    "print(f'perimeter {rec1.perimeter()}')\n",
    "print(f'area {rec2.area()}')\n",
    "print(f'perimeter {rec2.perimeter()}')"
   ]
  },
  {
   "cell_type": "code",
   "execution_count": 14,
   "id": "9bba74c3",
   "metadata": {},
   "outputs": [
    {
     "name": "stdout",
     "output_type": "stream",
     "text": [
      "Numbers: [10, 20, 30]\n",
      "Sum: 60\n",
      "Average: 20.0\n"
     ]
    }
   ],
   "source": [
    "# Your list\n",
    "x = ['10a', '20b', '30c']\n",
    "numbers = [int(item[:-1]) for item in x if item[:-1].isdigit()]\n",
    "total = sum(numbers)\n",
    "average = total / len(numbers) if len(numbers) > 0 else 0\n",
    "print(f\"Numbers: {numbers}\")\n",
    "print(f\"Sum: {total}\")\n",
    "print(f\"Average: {average}\")\n"
   ]
  },
  {
   "cell_type": "code",
   "execution_count": 20,
   "id": "1af16154",
   "metadata": {},
   "outputs": [
    {
     "name": "stdout",
     "output_type": "stream",
     "text": [
      "A - B - C - G - D - F - E - H - "
     ]
    }
   ],
   "source": [
    "from collections import deque\n",
    "def bfs(graph, start):\n",
    "    visited = set()\n",
    "    queue = deque([start])\n",
    "    while queue:\n",
    "        vertex = queue.popleft()\n",
    "        if vertex not in visited:\n",
    "            print(vertex, end=' - ')\n",
    "            visited.add(vertex)\n",
    "            queue.extend(graph[vertex] - visited)\n",
    "graph = {\n",
    "    'A':{'B','C','G'},\n",
    "    'B':{'A','D'},\n",
    "    'C':{'A','F', 'E'},\n",
    "    'D':{'B'},\n",
    "    'E':{'B','H'},\n",
    "    'F':{'C'},\n",
    "    'G':{'C'},\n",
    "    'H':{'B'}\n",
    "}\n",
    "start_vertex = 'A'\n",
    "bfs(graph, start_vertex)"
   ]
  },
  {
   "cell_type": "code",
   "execution_count": 21,
   "id": "5a9a5e9e",
   "metadata": {},
   "outputs": [
    {
     "name": "stderr",
     "output_type": "stream",
     "text": [
      "[nltk_data] Downloading package punkt to\n",
      "[nltk_data]     C:\\Users\\Hp\\AppData\\Roaming\\nltk_data...\n",
      "[nltk_data]   Package punkt is already up-to-date!\n",
      "[nltk_data] Downloading package wordnet to\n",
      "[nltk_data]     C:\\Users\\Hp\\AppData\\Roaming\\nltk_data...\n",
      "[nltk_data]   Package wordnet is already up-to-date!\n"
     ]
    },
    {
     "name": "stdout",
     "output_type": "stream",
     "text": [
      "sentence is lemmatized and stored in output file\n"
     ]
    }
   ],
   "source": [
    "import nltk\n",
    "from nltk.stem import WordNetLemmatizer\n",
    "from nltk.tokenize import word_tokenize\n",
    "\n",
    "nltk.download('punkt')\n",
    "nltk.download('wordnet')\n",
    "def lemmatized_text(text):\n",
    "    words = word_tokenize(text)\n",
    "    lemmatizer = WordNetLemmatizer()\n",
    "    lemmatized_words = [lemmatizer.lemmatize(word) for word in words]\n",
    "    return ' '.join(lemmatized_words)\n",
    "try:\n",
    "    with open('Desktop\\Input.txt', 'r') as input_file:\n",
    "        passage = input_file.read()\n",
    "        lemmatized_sentence = lemmatized_text(passage)\n",
    "        with open('Desktop\\Output.txt', 'w') as output_file:\n",
    "            output_file.write(lemmatized_sentence)\n",
    "            print('sentence is lemmatized and stored in output file')\n",
    "except FileNotFoundError:\n",
    "    print('invalid path')\n",
    "except Exception as e:\n",
    "    print('an error occured', e)"
   ]
  },
  {
   "cell_type": "code",
   "execution_count": 32,
   "id": "0d3572a9",
   "metadata": {},
   "outputs": [
    {
     "name": "stderr",
     "output_type": "stream",
     "text": [
      "[nltk_data] Downloading package punkt to\n",
      "[nltk_data]     C:\\Users\\Hp\\AppData\\Roaming\\nltk_data...\n",
      "[nltk_data]   Package punkt is already up-to-date!\n",
      "[nltk_data] Downloading package stopwords to\n",
      "[nltk_data]     C:\\Users\\Hp\\AppData\\Roaming\\nltk_data...\n",
      "[nltk_data]   Package stopwords is already up-to-date!\n"
     ]
    },
    {
     "name": "stdout",
     "output_type": "stream",
     "text": [
      "accuracy=  0.5\n",
      "enter a sentence good quality\n",
      "predicted sentiment   positive\n"
     ]
    }
   ],
   "source": [
    "import nltk\n",
    "import random\n",
    "from nltk.tokenize import word_tokenize\n",
    "from nltk.classify.scikitlearn import SklearnClassifier\n",
    "from sklearn.naive_bayes import MultinomialNB\n",
    "from sklearn.feature_extraction.text import CountVectorizer\n",
    "from sklearn.model_selection import train_test_split\n",
    "from nltk.corpus import stopwords\n",
    "nltk.download('punkt')\n",
    "nltk.download('stopwords')\n",
    "\n",
    "def extract_features(reviews,sentiments):\n",
    "    vectorizer = CountVectorizer(ngram_range=(1,2), stop_words=stopwords.words('english'))\n",
    "    x=vectorizer.fit_transform(reviews)\n",
    "    y=sentiments\n",
    "    return vectorizer,x,y\n",
    "\n",
    "reviews = [('love the product','positive'),('horrible product','negative'),\n",
    "          ('awfull experience','negative'),('good quality','positive'),\n",
    "          ('worst service','negative'),('excellent service','positive')]\n",
    "vectorizer,x,y = extract_features([review[0] for review in reviews],[review[1] for review in reviews])\n",
    "x_train,x_test,y_train,y_test = train_test_split(x,y,test_size=0.3,random_state=42)\n",
    "classifier = MultinomialNB()\n",
    "classifier.fit(x_train,y_train)\n",
    "\n",
    "print('accuracy= ',classifier.score(x_test,y_test))\n",
    "\n",
    "input_text = input('enter a sentence ')\n",
    "input_vector = vectorizer.transform([input_text])\n",
    "predicted_sentiment = classifier.predict(input_vector)\n",
    "print('predicted sentiment  ',predicted_sentiment[0])"
   ]
  },
  {
   "cell_type": "code",
   "execution_count": 33,
   "id": "92df6285",
   "metadata": {},
   "outputs": [
    {
     "name": "stdout",
     "output_type": "stream",
     "text": [
      "sentence is stemmed and stored in output file\n"
     ]
    },
    {
     "name": "stderr",
     "output_type": "stream",
     "text": [
      "[nltk_data] Downloading package punkt to\n",
      "[nltk_data]     C:\\Users\\Hp\\AppData\\Roaming\\nltk_data...\n",
      "[nltk_data]   Package punkt is already up-to-date!\n"
     ]
    }
   ],
   "source": [
    "import nltk\n",
    "from nltk.stem import PorterStemmer\n",
    "from nltk.tokenize import word_tokenize\n",
    "nltk.download('punkt')\n",
    "def stemming_text(text):\n",
    "    words = word_tokenize(text)\n",
    "    stemmer = PorterStemmer()\n",
    "    stemmed_words = [stemmer.stem(word) for word in words]\n",
    "    return ' '.join(stemmed_words)\n",
    "\n",
    "try:\n",
    "    with open('Desktop\\Input.txt', 'r') as input_file:\n",
    "        passage = input_file.read()\n",
    "        stemmed_sentence = stemming_text(passage)\n",
    "        with open('Desktop\\Output.txt', 'w') as output_file:\n",
    "            output_file.write(stemmed_sentence)\n",
    "            print('sentence is stemmed and stored in output file')\n",
    "except FileNotFoundError:\n",
    "    print('invalid path')\n",
    "except Exception as e:\n",
    "    print('an error occured', e)"
   ]
  },
  {
   "cell_type": "code",
   "execution_count": 36,
   "id": "df8e86a1",
   "metadata": {},
   "outputs": [
    {
     "name": "stdout",
     "output_type": "stream",
     "text": [
      "sentence is tagged and stored in output file\n"
     ]
    },
    {
     "name": "stderr",
     "output_type": "stream",
     "text": [
      "[nltk_data] Downloading package punkt to\n",
      "[nltk_data]     C:\\Users\\Hp\\AppData\\Roaming\\nltk_data...\n",
      "[nltk_data]   Package punkt is already up-to-date!\n",
      "[nltk_data] Error loading avaraged_perceptron_tagger: Package\n",
      "[nltk_data]     'avaraged_perceptron_tagger' not found in index\n"
     ]
    }
   ],
   "source": [
    "import nltk\n",
    "from nltk.tokenize import word_tokenize\n",
    "from nltk import pos_tag\n",
    "nltk.download('punkt')\n",
    "nltk.download('avaraged_perceptron_tagger')\n",
    "def tagged_text(text):\n",
    "    words = word_tokenize(text)\n",
    "    tagged_words = pos_tag(words)\n",
    "    return tagged_words\n",
    "try:\n",
    "    with open('Desktop\\Input.txt', 'r') as input_file:\n",
    "        passage = input_file.read()\n",
    "        tagged_sentence = tagged_text(passage)\n",
    "        with open('Desktop\\Output.txt', 'w') as output_file:\n",
    "            output_file.write(str(tagged_sentence))\n",
    "            print('sentence is tagged and stored in output file')\n",
    "except FileNotFoundError:\n",
    "    print('invalid path')\n",
    "except Exception as e:\n",
    "    print('an error occured', e)"
   ]
  },
  {
   "cell_type": "code",
   "execution_count": 38,
   "id": "c769fa22",
   "metadata": {},
   "outputs": [
    {
     "name": "stdout",
     "output_type": "stream",
     "text": [
      "stop words is removed and stored in output file\n"
     ]
    },
    {
     "name": "stderr",
     "output_type": "stream",
     "text": [
      "[nltk_data] Downloading package punkt to\n",
      "[nltk_data]     C:\\Users\\Hp\\AppData\\Roaming\\nltk_data...\n",
      "[nltk_data]   Package punkt is already up-to-date!\n",
      "[nltk_data] Downloading package stopwords to\n",
      "[nltk_data]     C:\\Users\\Hp\\AppData\\Roaming\\nltk_data...\n",
      "[nltk_data]   Package stopwords is already up-to-date!\n"
     ]
    }
   ],
   "source": [
    "import nltk\n",
    "from nltk.tokenize import word_tokenize\n",
    "from nltk.corpus import stopwords\n",
    "nltk.download('punkt')\n",
    "nltk.download('stopwords')\n",
    "def remove_stop_words(text):\n",
    "    stop_words = stopwords.words('english')\n",
    "    words = word_tokenize(text)\n",
    "    filtered_words = [word for word in words if word not in stop_words]\n",
    "    return ' '.join(filtered_words)\n",
    "\n",
    "try:\n",
    "    with open('Desktop\\Input.txt', 'r') as input_file:\n",
    "        passage = input_file.read()\n",
    "        filtered_sentence = remove_stop_words(passage)\n",
    "        with open('Desktop\\Output.txt', 'w') as output_file:\n",
    "            output_file.write(str(filtered_sentence))\n",
    "            print('stop words is removed and stored in output file')\n",
    "except FileNotFoundError:\n",
    "    print('invalid path')\n",
    "except Exception as e:\n",
    "    print('an error occured', e)"
   ]
  },
  {
   "cell_type": "code",
   "execution_count": 41,
   "id": "e8da692f",
   "metadata": {},
   "outputs": [
    {
     "name": "stdout",
     "output_type": "stream",
     "text": [
      "article_titles= ['Article 1', 'Article 2']\n",
      "Contents of Article 1\n",
      "Contents of Article 2\n"
     ]
    }
   ],
   "source": [
    "from bs4 import BeautifulSoup\n",
    "url = 'C:/Users/Hp/Desktop/index.html'\n",
    "with open(url,'r') as file:\n",
    "    content = file.read()\n",
    "    \n",
    "soup=BeautifulSoup(content)\n",
    "h2_tags = [h2.text for h2 in soup.find_all('h2')]\n",
    "print(f'article_titles= {h2_tags}')\n",
    "\n",
    "for p in soup.find_all('p'):\n",
    "    print(p.text)"
   ]
  },
  {
   "cell_type": "code",
   "execution_count": 45,
   "id": "b5bda4fa",
   "metadata": {},
   "outputs": [
    {
     "name": "stdout",
     "output_type": "stream",
     "text": [
      "Matrix 1\n",
      "enter the row size 2\n",
      "enter the column size 2\n",
      "enter the element at position (1,1)3\n",
      "enter the element at position (1,2)2\n",
      "enter the element at position (2,1)2\n",
      "enter the element at position (2,2)3\n",
      "Matrix 2\n",
      "enter the row size 3\n",
      "enter the column size 2\n",
      "enter the element at position (1,1)2\n",
      "enter the element at position (1,2)3\n",
      "enter the element at position (2,1)4\n",
      "enter the element at position (2,2)4\n",
      "enter the element at position (3,1)4\n",
      "enter the element at position (3,2)5\n",
      "add None\n",
      "multiply  None\n",
      "transpose [[3. 2.]\n",
      " [2. 3.]]\n"
     ]
    }
   ],
   "source": [
    "import numpy as np\n",
    "def Matrix():\n",
    "    rows = int(input('enter the row size '))\n",
    "    cols = int(input('enter the column size '))\n",
    "    matrix = []\n",
    "    for i in range(rows):\n",
    "        row = []\n",
    "        for j in range(cols):\n",
    "            item = float(input(f'enter the element at position ({i+1},{j+1})'))\n",
    "            row.append(item)\n",
    "        matrix.append(row)\n",
    "    return np.array(matrix)\n",
    "def add(m1,m2):\n",
    "    if m1.shape != m2.shape:\n",
    "        return None\n",
    "    else:\n",
    "        return m1 + m2\n",
    "def mul(m1,m2):\n",
    "    if m1.shape[1] != m2.shape[0]:\n",
    "        return None\n",
    "    else:\n",
    "        return np.dot(m1,m2)\n",
    "def transpose(m):\n",
    "    return np.transpose(m)\n",
    "\n",
    "print('Matrix 1')\n",
    "m1=Matrix()\n",
    "print('Matrix 2')\n",
    "m2=Matrix()\n",
    "\n",
    "result_add = add(m1,m2)\n",
    "print('add',result_add)\n",
    "\n",
    "result_mul = mul(m1,m2)\n",
    "print('multiply ',result_mul)\n",
    "\n",
    "result_trans = transpose(m1)\n",
    "print('transpose',result_trans)"
   ]
  },
  {
   "cell_type": "code",
   "execution_count": 46,
   "id": "f28f083f",
   "metadata": {},
   "outputs": [
    {
     "name": "stdout",
     "output_type": "stream",
     "text": [
      " punctuation is removed and stored in output file\n"
     ]
    }
   ],
   "source": [
    "import re\n",
    "def remove_punctuation(text):\n",
    "    punctuation_pattern = re.compile(r'[^\\w\\s]')\n",
    "    no_punctuation = re.sub(punctuation_pattern, ' ', text)\n",
    "    return no_punctuation\n",
    "try:\n",
    "    with open('Desktop\\example1.txt', 'r') as input_file:\n",
    "        passage = input_file.read()\n",
    "        filtered_sentence = remove_punctuation(passage)\n",
    "        with open('Desktop\\Output.txt', 'w') as output_file:\n",
    "            output_file.write(str(filtered_sentence))\n",
    "            print(' punctuation is removed and stored in output file')\n",
    "except FileNotFoundError:\n",
    "    print('invalid path')\n",
    "except Exception as e:\n",
    "    print('an error occured', e)"
   ]
  },
  {
   "cell_type": "code",
   "execution_count": 50,
   "id": "ab212400",
   "metadata": {},
   "outputs": [
    {
     "name": "stdout",
     "output_type": "stream",
     "text": [
      "sentence is sorted in alphabetical order and stored in output file\n"
     ]
    }
   ],
   "source": [
    "def sort_alphabetically(text):\n",
    "    sentence = text.split()\n",
    "    sorted_sentence = sorted(sentence)\n",
    "    return ' '.join(sorted_sentence)\n",
    "try:\n",
    "    with open('Desktop\\example1.txt', 'r') as input_file:\n",
    "        passage = input_file.read()\n",
    "        filtered_sentence = sort_alphabetically(passage)\n",
    "        with open('Desktop\\Output.txt', 'w') as output_file:\n",
    "            output_file.write(str(filtered_sentence))\n",
    "            print('sentence is sorted in alphabetical order and stored in output file')\n",
    "except FileNotFoundError:\n",
    "    print('invalid path')\n",
    "except Exception as e:\n",
    "    print('an error occured', e)"
   ]
  },
  {
   "cell_type": "code",
   "execution_count": 1,
   "id": "f41de72f",
   "metadata": {},
   "outputs": [
    {
     "name": "stdout",
     "output_type": "stream",
     "text": [
      "_ _ _\n",
      "guess a letter a\n",
      "you have guessed a,that is not in letter.you lose a live\n",
      "___\n",
      "lives left 5\n",
      "_ _ _\n",
      "guess a letter r\n",
      "r__\n",
      "lives left 5\n",
      "r _ _\n",
      "guess a letter w\n",
      "you have guessed w,that is not in letter.you lose a live\n",
      "r__\n",
      "lives left 4\n",
      "r _ _\n",
      "guess a letter a\n",
      "you have guessed a,that is not in letter.you lose a live\n",
      "r__\n",
      "lives left 3\n",
      "r _ _\n",
      "guess a letter n\n",
      "r_n\n",
      "lives left 3\n",
      "r _ n\n",
      "guess a letter e\n",
      "you have guessed e,that is not in letter.you lose a live\n",
      "r_n\n",
      "lives left 2\n",
      "r _ n\n",
      "guess a letter r\n",
      "r_n\n",
      "lives left 2\n",
      "r _ n\n",
      "guess a letter o\n",
      "ron\n",
      "you win\n"
     ]
    }
   ],
   "source": [
    "import random\n",
    "word_list = ['ana','ron','riya']\n",
    "chosen_word = random.choice(word_list)\n",
    "lives = 6\n",
    "game_end = False\n",
    "display = ['_' for _ in chosen_word]\n",
    "while not game_end:\n",
    "    print(f\"{' '.join(display)}\")\n",
    "    guess = input('guess a letter ').lower()\n",
    "    for position in range(len(chosen_word)):\n",
    "        letter = chosen_word[position]\n",
    "        if letter == guess:\n",
    "            display[position] = letter\n",
    "    if guess not in chosen_word:\n",
    "        print(f'you have guessed {guess},that is not in letter.you lose a live')\n",
    "        lives -= 1\n",
    "        if lives == 0:\n",
    "            game_end = True\n",
    "            print('you loose')\n",
    "            break\n",
    "    print(f\"{''.join(display)}\")\n",
    "    if '_' not in display:\n",
    "        game_end = True\n",
    "        print('you win')\n",
    "        break\n",
    "    print(f'lives left {lives}')\n",
    "        "
   ]
  },
  {
   "cell_type": "code",
   "execution_count": 2,
   "id": "9f225809",
   "metadata": {},
   "outputs": [
    {
     "name": "stdout",
     "output_type": "stream",
     "text": [
      "[5, 7, 9]\n"
     ]
    }
   ],
   "source": [
    "list1 = [1, 2, 3]\n",
    "list2 = [4, 5, 6]\n",
    "element_to_append = 4\n",
    "element_to_delete = 2\n",
    "\n",
    "add = [a+b for a,b in zip(list1,list2)]\n",
    "print(add)"
   ]
  },
  {
   "cell_type": "code",
   "execution_count": 7,
   "id": "da11eb3d",
   "metadata": {},
   "outputs": [
    {
     "name": "stdout",
     "output_type": "stream",
     "text": [
      "[1, 2, 3, 4]\n"
     ]
    }
   ],
   "source": [
    "list1 = [1, 2, 3]\n",
    "list1.append(element_to_append)\n",
    "print(list1)"
   ]
  },
  {
   "cell_type": "code",
   "execution_count": 8,
   "id": "0653800c",
   "metadata": {},
   "outputs": [
    {
     "name": "stdout",
     "output_type": "stream",
     "text": [
      "[1, 2, 3, 4, 5, 6]\n"
     ]
    }
   ],
   "source": [
    "list1 = [1, 2, 3]\n",
    "list2 = [4, 5, 6]\n",
    "list1.extend(list2)\n",
    "print(list1)"
   ]
  },
  {
   "cell_type": "code",
   "execution_count": 11,
   "id": "97b4a7fd",
   "metadata": {},
   "outputs": [
    {
     "name": "stdout",
     "output_type": "stream",
     "text": [
      "[1, 3, 4, 5, 6]\n"
     ]
    }
   ],
   "source": [
    "list1.remove(element_to_delete)\n",
    "print(list1)"
   ]
  },
  {
   "cell_type": "code",
   "execution_count": 13,
   "id": "78ea5876",
   "metadata": {},
   "outputs": [
    {
     "name": "stdout",
     "output_type": "stream",
     "text": [
      "['ac', 'bd']\n"
     ]
    }
   ],
   "source": [
    "l1=['a','b']\n",
    "l2=['c','d','e']\n",
    "add = [a+b for a,b in zip(l1,l2)]\n",
    "print(add)"
   ]
  },
  {
   "cell_type": "code",
   "execution_count": 14,
   "id": "18030acb",
   "metadata": {},
   "outputs": [
    {
     "name": "stdout",
     "output_type": "stream",
     "text": [
      "[4, 16, 36, 64, 100]\n"
     ]
    }
   ],
   "source": [
    "square = [x ** 2 for x in range(1,11) if x%2 == 0]\n",
    "print(square)"
   ]
  },
  {
   "cell_type": "code",
   "execution_count": 18,
   "id": "c210d5eb",
   "metadata": {},
   "outputs": [
    {
     "name": "stdout",
     "output_type": "stream",
     "text": [
      "['h', 'e', 'l', 'l', 'o']\n"
     ]
    }
   ],
   "source": [
    "string = [x for x in 'hello']\n",
    "print(string)"
   ]
  },
  {
   "cell_type": "code",
   "execution_count": 27,
   "id": "526114ef",
   "metadata": {},
   "outputs": [
    {
     "name": "stdout",
     "output_type": "stream",
     "text": [
      "[2, 3, 5, 11]\n"
     ]
    }
   ],
   "source": [
    "import math\n",
    "def prime(num):\n",
    "    if num<2:\n",
    "        return False\n",
    "    for i in range(2, int(math.sqrt(num))+1):\n",
    "        if num%i == 0:\n",
    "            return False\n",
    "    return True\n",
    "l=[2,3,5,8,11,15]\n",
    "p = [num for num in l if prime(num)]\n",
    "print(p)"
   ]
  },
  {
   "cell_type": "code",
   "execution_count": 31,
   "id": "d51a0856",
   "metadata": {},
   "outputs": [
    {
     "name": "stdout",
     "output_type": "stream",
     "text": [
      "The sum of a and b is: 12\n",
      "Difference: 4\n",
      "Product: 32\n",
      "Division: 2.0\n"
     ]
    }
   ],
   "source": [
    "def calculate_sum(file_path):\n",
    "    with open(file_path, 'r') as file:\n",
    "        content = file.read()\n",
    "\n",
    "    # Extract values of 'a' and 'b'\n",
    "    a = int(content.split(',')[0].split('=')[1])\n",
    "    b = int(content.split(',')[1].split('=')[1])\n",
    "\n",
    "    # Perform addition\n",
    "    result = a + b\n",
    "    print(f\"The sum of a and b is: {result}\")\n",
    "    \n",
    "    # Perform subtraction\n",
    "    sub_result = a - b\n",
    "    print(f'Difference: {sub_result}')\n",
    "\n",
    "    # Perform multiplication\n",
    "    mul_result = a * b\n",
    "    print(f'Product: {mul_result}')\n",
    "\n",
    "    # Perform division (check if b is not zero)\n",
    "    if b != 0:\n",
    "        div_result = a / b\n",
    "        print(f'Division: {div_result}')\n",
    "    else:\n",
    "        print('Cannot perform division. Denominator is zero.')\n",
    "\n",
    "\n",
    "# Replace 'your_file.txt' with the path to your text file\n",
    "file_path = 'Desktop\\Input.txt'\n",
    "calculate_sum(file_path)\n"
   ]
  },
  {
   "cell_type": "code",
   "execution_count": 34,
   "id": "9a0577a4",
   "metadata": {},
   "outputs": [
    {
     "name": "stdout",
     "output_type": "stream",
     "text": [
      "12\n",
      "4\n",
      "32\n",
      "2.0\n"
     ]
    }
   ],
   "source": [
    "with open('Desktop\\Input.txt','r') as file:\n",
    "    content = file.read()\n",
    "a=int(content.split(',')[0].split('=')[1])\n",
    "b=int(content.split(',')[1].split('=')[1])\n",
    "print(a+b)\n",
    "print(a-b)\n",
    "print(a*b)\n",
    "if b!=0:\n",
    "    print(a/b)\n",
    "else:\n",
    "    print('cannot be divisible by 0')"
   ]
  },
  {
   "cell_type": "code",
   "execution_count": 38,
   "id": "b63649d0",
   "metadata": {},
   "outputs": [
    {
     "name": "stdout",
     "output_type": "stream",
     "text": [
      "hello,how are you doing today?\n"
     ]
    }
   ],
   "source": [
    "with open('Desktop\\example1.txt','r') as file:\n",
    "    content = file.read()\n",
    "print(content)"
   ]
  },
  {
   "cell_type": "code",
   "execution_count": 39,
   "id": "2eea8593",
   "metadata": {},
   "outputs": [],
   "source": [
    "#write \n",
    "with open('Desktop\\Output.txt','w') as file:\n",
    "    file.write('hii ,i am riya')"
   ]
  },
  {
   "cell_type": "code",
   "execution_count": 41,
   "id": "85cd6187",
   "metadata": {},
   "outputs": [],
   "source": [
    "try:\n",
    "    with open('Desktop\\Output.txt','w') as file:\n",
    "        file.write('hii ,i am riya')\n",
    "\n",
    "except FileNotFoundError:\n",
    "    print('invalid path')\n",
    "except Exception as e:\n",
    "    print('an error occured', e)"
   ]
  },
  {
   "cell_type": "code",
   "execution_count": 42,
   "id": "9625dd8f",
   "metadata": {},
   "outputs": [],
   "source": [
    "with open('Desktop\\Output.txt','a') as file:\n",
    "    file.write('I am studying in engineering')"
   ]
  },
  {
   "cell_type": "code",
   "execution_count": 44,
   "id": "93a4bd41",
   "metadata": {},
   "outputs": [
    {
     "name": "stdout",
     "output_type": "stream",
     "text": [
      "hii ,i am riya\n",
      "I am studying in engineering\n"
     ]
    }
   ],
   "source": [
    "with open(\"Desktop\\Output.txt\", \"r\") as file:\n",
    "    for line in file:\n",
    "        print(line.strip())"
   ]
  },
  {
   "cell_type": "code",
   "execution_count": null,
   "id": "baab5b4a",
   "metadata": {},
   "outputs": [],
   "source": []
  }
 ],
 "metadata": {
  "kernelspec": {
   "display_name": "Python 3 (ipykernel)",
   "language": "python",
   "name": "python3"
  },
  "language_info": {
   "codemirror_mode": {
    "name": "ipython",
    "version": 3
   },
   "file_extension": ".py",
   "mimetype": "text/x-python",
   "name": "python",
   "nbconvert_exporter": "python",
   "pygments_lexer": "ipython3",
   "version": "3.9.12"
  }
 },
 "nbformat": 4,
 "nbformat_minor": 5
}
